{
  "nbformat": 4,
  "nbformat_minor": 0,
  "metadata": {
    "colab": {
      "name": "Act3_PIA_parte1_Equipo3.ipynb",
      "provenance": [],
      "include_colab_link": true
    },
    "kernelspec": {
      "name": "python3",
      "display_name": "Python 3"
    },
    "language_info": {
      "name": "python"
    }
  },
  "cells": [
    {
      "cell_type": "markdown",
      "metadata": {
        "id": "view-in-github",
        "colab_type": "text"
      },
      "source": [
        "<a href=\"https://colab.research.google.com/github/MariaFDiaz0/IA-verano-2022/blob/main/Act3_PIA_parte1_Equipo3.ipynb\" target=\"_parent\"><img src=\"https://colab.research.google.com/assets/colab-badge.svg\" alt=\"Open In Colab\"/></a>"
      ]
    },
    {
      "cell_type": "markdown",
      "source": [
        "**Equipo 3:**\n",
        "\n",
        "Daniela Patricia Contreras Rodríguez\n",
        "\n",
        "María Fernanda Díaz García\n",
        "\n",
        "Maythe Escobedo Madera"
      ],
      "metadata": {
        "id": "53kE97yBVmfJ"
      }
    },
    {
      "cell_type": "code",
      "execution_count": 1,
      "metadata": {
        "id": "Z4AITKhYCSEC"
      },
      "outputs": [],
      "source": [
        "import cv2\n",
        "import matplotlib.pyplot as plt\n",
        "import glob\n",
        "import numpy as np"
      ]
    },
    {
      "cell_type": "code",
      "source": [
        "img_array = []"
      ],
      "metadata": {
        "id": "9Y_mvAqrIS5w"
      },
      "execution_count": 22,
      "outputs": []
    },
    {
      "cell_type": "code",
      "source": [
        " # get the path/directory\n",
        "folder_dir = '/content/NumerosMaria'\n",
        " \n",
        "# iterate over files in that directory\n",
        "for images in glob.iglob(f'{folder_dir}/*.png'):\n",
        "  test_image = cv2.imread(images, cv2.IMREAD_GRAYSCALE)\n",
        "  img_resized = cv2.resize(test_image,(28,28), interpolation = cv2.INTER_LINEAR)\n",
        "  plt.imshow(img_resized, cmap='gray')\n",
        "  img_array.append(img_resized)\n",
        "plt.figure(figsize=(10,10))"
      ],
      "metadata": {
        "id": "rfAeOYI1MIEG",
        "colab": {
          "base_uri": "https://localhost:8080/",
          "height": 300
        },
        "outputId": "acf9b792-f08f-4fa9-a3c9-75c0eda71162"
      },
      "execution_count": 23,
      "outputs": [
        {
          "output_type": "execute_result",
          "data": {
            "text/plain": [
              "<Figure size 720x720 with 0 Axes>"
            ]
          },
          "metadata": {},
          "execution_count": 23
        },
        {
          "output_type": "display_data",
          "data": {
            "text/plain": [
              "<Figure size 432x288 with 1 Axes>"
            ],
            "image/png": "[encoded data removed]"
          },
          "metadata": {
            "needs_background": "light"
          }
        },
        {
          "output_type": "display_data",
          "data": {
            "text/plain": [
              "<Figure size 720x720 with 0 Axes>"
            ]
          },
          "metadata": {}
        }
      ]
    },
    {
      "cell_type": "code",
      "source": [
        "#for images in glob.iglob(f'{folder_dir}/*'):\n",
        " # img_array.append(img_resized)\n",
        "  #len(img_array)\n",
        "plt.imshow(img_array [0], cmap='gray')"
      ],
      "metadata": {
        "id": "favqcAQBdJUG",
        "colab": {
          "base_uri": "https://localhost:8080/",
          "height": 282
        },
        "outputId": "8bbc6252-55d2-4ebd-8622-d54f90d3042f"
      },
      "execution_count": 24,
      "outputs": [
        {
          "output_type": "execute_result",
          "data": {
            "text/plain": [
              "<matplotlib.image.AxesImage at 0x7f3ffbb61b10>"
            ]
          },
          "metadata": {},
          "execution_count": 24
        },
        {
          "output_type": "display_data",
          "data": {
            "text/plain": [
              "<Figure size 432x288 with 1 Axes>"
            ],
            "image/png": "[encoded data removed]"
          },
          "metadata": {
            "needs_background": "light"
          }
        }
      ]
    },
    {
      "cell_type": "code",
      "source": [
        "len(img_array)"
      ],
      "metadata": {
        "colab": {
          "base_uri": "https://localhost:8080/"
        },
        "id": "kUXl7CNLdSv7",
        "outputId": "b2976f45-a399-4e76-9512-507d8d6cc65b"
      },
      "execution_count": 7,
      "outputs": [
        {
          "output_type": "execute_result",
          "data": {
            "text/plain": [
              "300"
            ]
          },
          "metadata": {},
          "execution_count": 7
        }
      ]
    },
    {
      "cell_type": "code",
      "source": [
        "plt.figure(figsize=(10,10))\n",
        "for i in range (3):\n",
        "  plt.subplot(1,3,i+1)\n",
        "  plt.xticks([])\n",
        "  plt.yticks([])\n",
        "  plt.grid(False)\n",
        "  plt.imshow(img_array [i], cmap='gray')\n",
        "plt.show()"
      ],
      "metadata": {
        "colab": {
          "base_uri": "https://localhost:8080/",
          "height": 199
        },
        "id": "U-qQdSZuZ2FL",
        "outputId": "c560c742-3841-4e08-892b-e5811bf75ee0"
      },
      "execution_count": 20,
      "outputs": [
        {
          "output_type": "display_data",
          "data": {
            "text/plain": [
              "<Figure size 720x720 with 3 Axes>"
            ],
            "image/png": "[encoded data removed]"
          },
          "metadata": {}
        }
      ]
    }
  ]
}