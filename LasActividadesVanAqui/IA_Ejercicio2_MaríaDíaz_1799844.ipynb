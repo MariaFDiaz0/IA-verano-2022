{
  "nbformat": 4,
  "nbformat_minor": 0,
  "metadata": {
    "colab": {
      "name": "IA_Ejercicio2_MaríaDíaz_1799844.ipynb",
      "provenance": []
    },
    "kernelspec": {
      "name": "python3",
      "display_name": "Python 3"
    },
    "language_info": {
      "name": "python"
    }
  },
  "cells": [
    {
      "cell_type": "markdown",
      "source": [
        "#Actividad 2: Ejercicios en Phyton\n",
        "\n",
        "#Nombre: María Fernanda Díaz García\n",
        "\n",
        "#Matrícula: 1799844\n",
        "#Hora: N5"
      ],
      "metadata": {
        "id": "0vw-z2XRTVrV"
      }
    },
    {
      "cell_type": "markdown",
      "source": [
        "1. Escribe un programa que le pida al usuario por su nombre y que lo salude con su nombre, excepto si se llama “Ana”, “Juan”, y “Pedro”"
      ],
      "metadata": {
        "id": "Tg5ame7xS6Gr"
      }
    },
    {
      "cell_type": "code",
      "source": [
        "\n",
        "print(\"Introduzca su nombre: \")\n",
        "a=input() #Se establece que el nombre será el dato de entrada, definido por la variable \"a\"\n",
        "x= \"Ana\" #Se definen los 3 nombres no deseados como variables \"x\",\"y\" y \"z\"\n",
        "y= \"Pedro\"\n",
        "z= \"Juan\"\n",
        "if a == x or a == y or a == z  : #En esta línea se establece que si la entrada \"a\" es igual a \"x\", \"y\" o \"z\", se imprime \"Error\"\n",
        "  print(\"Error\")\n",
        "else : #Si la entrada \"a\" no cumple la condición anterior entonces se imprime el saludo junto con la variable \"a\" (nombre)\n",
        "  print(\"Hola \" + a + \"!\")\n"
      ],
      "metadata": {
        "colab": {
          "base_uri": "https://localhost:8080/"
        },
        "id": "KbDk4okMpYDv",
        "outputId": "675595b9-b614-4257-c5cb-2449a268a3e9"
      },
      "execution_count": 38,
      "outputs": [
        {
          "output_type": "stream",
          "name": "stdout",
          "text": [
            "Introduzca su nombre: \n",
            "Juan\n",
            "Error\n"
          ]
        }
      ]
    },
    {
      "cell_type": "markdown",
      "source": [
        "2.Escribe una función que regrese el último elemento de una lista y que revierta el orden de la lista e imprima la lista revertida."
      ],
      "metadata": {
        "id": "wo3QZtahTLDG"
      }
    },
    {
      "cell_type": "code",
      "source": [
        "\n",
        "lista=[\"uno\",\"dos\",\"tres\",\"cuatro\",\"cinco\"]\n",
        "print(lista[-1]) #Se pone índice negativo para imprimir el último elemento de la lista\n",
        "listanueva= lista[::-1] #Se usa la sintaxis de range y se define de esta manera para que se imprima de fin a inicio, de uno por uno\n",
        "print(listanueva)"
      ],
      "metadata": {
        "colab": {
          "base_uri": "https://localhost:8080/"
        },
        "id": "eucY5B0S3Kph",
        "outputId": "82c2d934-b65d-4ae7-e2e0-04d0135358b5"
      },
      "execution_count": 51,
      "outputs": [
        {
          "output_type": "stream",
          "name": "stdout",
          "text": [
            "cinco\n",
            "['cinco', 'cuatro', 'tres', 'dos', 'uno']\n"
          ]
        }
      ]
    },
    {
      "cell_type": "markdown",
      "source": [
        "3.Escribe una función que toma una lista de strings y los imprima línea por línea en un marco rectangular."
      ],
      "metadata": {
        "id": "SFvxGswlT37S"
      }
    },
    {
      "cell_type": "code",
      "source": [
        "\n",
        "lista2=[\"Este\",\"es\",\"el\",\"último\",\"ejercicio\",\"de\",\"la\",\"tarea\"]\n",
        "print(\"************\")\n",
        "for x in lista2: #El loop for se usa para que se recorra cada elemento \"x\" de la lista y se ejecute el comando siguiente\n",
        "  print(\"*\" + x.ljust(10,\" \") + \"*\") #Se suma un * al inicio más cada elemento \"x\" justificado a la izquierda contando 10 espacios\n",
        "print(\"************\")                #pasados, que son rellenados con espacios vacíos (para eso sirve la función .ljust(espacios,\"caracter para rellenar espacios\")),\n",
        "                                     #más un * al final."
      ],
      "metadata": {
        "colab": {
          "base_uri": "https://localhost:8080/"
        },
        "id": "IxWZYgBWOntd",
        "outputId": "670707b6-96e4-4cc0-de35-65ea8a228079"
      },
      "execution_count": 17,
      "outputs": [
        {
          "output_type": "stream",
          "name": "stdout",
          "text": [
            "************\n",
            "*Este      *\n",
            "*es        *\n",
            "*el        *\n",
            "*último    *\n",
            "*ejercicio *\n",
            "*de        *\n",
            "*la        *\n",
            "*tarea     *\n",
            "************\n"
          ]
        }
      ]
    }
  ]
}